{
 "cells": [
  {
   "cell_type": "markdown",
   "id": "6f2bde6e-1c33-42a5-9f9b-5b1fbe6b8e8e",
   "metadata": {},
   "source": [
    " <center>JCAFB-2025 - Cadastro de Pacientes Off-Line<center>\n",
    " <center>Campanha DHC (2) - 2025<center>"
   ]
  },
  {
   "cell_type": "markdown",
   "id": "ac7dad70-f29c-4b48-99bb-b94239905bee",
   "metadata": {},
   "source": [
    "# Exportar a lista de todos os Pacientes cadastrados (Referência)\n",
    "\n",
    "1. Conectar-se, via *browser*, ao *Odoo* do servidor [clvheatlh-jcafb-2025n-aws-pro](https://34.224.24.169).\n",
    "\n",
    "1. Acessar a *View* *Patients*:\n",
    "    - Menu de acesso:\n",
    "        - **Health** » **Health** » **Patient** » **Patients**\n",
    "\n",
    "1. Selecionar todos os Pacientes.\n",
    "\n",
    "1. Executar a Ação \"**Exportar**\" (**852**):\n",
    "    - Parâmetros utilizados:\n",
    "        - *Quero atualizar os dados (compatibilidade com importação e exportação)*: \"**marcado**\"\n",
    "        - *Campos para exportar*: » *Modelo*: \"**jcafb_2025_cadastro_pacientes_dhc2_ref**\"\n",
    "    1. Utilize o botão **Exportar** para executar a Ação.\n"
   ]
  },
  {
   "cell_type": "markdown",
   "id": "c4b93475-df43-4b88-a80c-ada18b6ab66a",
   "metadata": {},
   "source": [
    "# Parâmetros globais"
   ]
  },
  {
   "cell_type": "code",
   "execution_count": 1,
   "id": "2f23ffb6-7ece-4643-81db-7e7a51a3fdbb",
   "metadata": {},
   "outputs": [],
   "source": [
    "import pandas as pd\n",
    "import re\n"
   ]
  },
  {
   "cell_type": "code",
   "execution_count": 2,
   "id": "6ea72590-947a-45cb-8c4b-37eecc8ebe2a",
   "metadata": {},
   "outputs": [],
   "source": [
    "import logging\n",
    "\n",
    "logging.basicConfig(level=logging.DEBUG)\n",
    "_logger = logging.getLogger(__name__)\n"
   ]
  },
  {
   "cell_type": "markdown",
   "id": "8b77acfc-5e96-43df-8071-d448a064eece",
   "metadata": {},
   "source": [
    "## Cadastro de Referência"
   ]
  },
  {
   "cell_type": "code",
   "execution_count": 3,
   "id": "98658e04-a46f-482f-a00a-824a4ad100e1",
   "metadata": {},
   "outputs": [],
   "source": [
    "jcafb_cadastro_pacientes_ref_path = 'data/jcafb_2025_cadastro_pacientes_dhc2_ref.xlsx'\n",
    "jcafb_cadastro_pacientes_ref_sheet = 'cadastro_pacientes_dhc2_ref'"
   ]
  },
  {
   "cell_type": "markdown",
   "id": "aacdd228-f930-43ea-885e-80f951743de4",
   "metadata": {},
   "source": [
    "## Cadastros de Campanha"
   ]
  },
  {
   "cell_type": "markdown",
   "id": "b7312888-0712-4014-8613-d1ecdf50ba34",
   "metadata": {},
   "source": [
    "### Cadastro de Campanha (arquivo 1)"
   ]
  },
  {
   "cell_type": "code",
   "execution_count": 4,
   "id": "e6ad3c2c-2239-4a3e-b65f-ee4bdc11c2ba",
   "metadata": {},
   "outputs": [],
   "source": [
    "jcafb_cadastro_campanha_1_path = 'data/jcafb_2025_cadastro_pacientes_dhc2_a1.xlsx'\n",
    "jcafb_cadastro_campanha_1_sheet = 'cadastro_pacientes_dhc2_a1'"
   ]
  },
  {
   "cell_type": "markdown",
   "id": "ab90df92-7f29-418c-b98a-5fda4bae17f8",
   "metadata": {},
   "source": [
    "### Cadastro de Campanha (arquivo 2)"
   ]
  },
  {
   "cell_type": "code",
   "execution_count": 5,
   "id": "77414432-9928-49a1-968a-fb3cb81cd1e2",
   "metadata": {},
   "outputs": [],
   "source": [
    "jcafb_cadastro_campanha_2_path = 'data/jcafb_2025_cadastro_pacientes_dhc2_a2.xlsx'\n",
    "jcafb_cadastro_campanha_2_sheet = 'cadastro_pacientes_dhc2_a2'"
   ]
  },
  {
   "cell_type": "markdown",
   "id": "b1b56f37-f257-4313-9644-7a990b499561",
   "metadata": {},
   "source": [
    "### Cadastro de Campanha (arquivo 3)"
   ]
  },
  {
   "cell_type": "code",
   "execution_count": 6,
   "id": "12a46e2a-df16-4fa2-9a70-b3f7d344ef16",
   "metadata": {},
   "outputs": [],
   "source": [
    "jcafb_cadastro_campanha_3_path = 'data/jcafb_2025_cadastro_pacientes_dhc2_a3.xlsx'\n",
    "jcafb_cadastro_campanha_3_sheet = 'cadastro_pacientes_dhc2_a3'"
   ]
  },
  {
   "cell_type": "markdown",
   "id": "acdbfa42-b73b-4c26-9161-4ea0c034ba71",
   "metadata": {},
   "source": [
    "### Cadastro de Campanha (arquivo 4)"
   ]
  },
  {
   "cell_type": "code",
   "execution_count": 7,
   "id": "1da69c57-4f75-4bac-a4ab-b009035cfe0f",
   "metadata": {},
   "outputs": [],
   "source": [
    "jcafb_cadastro_campanha_4_path = 'data/jcafb_2025_cadastro_pacientes_dhc2_a4.xlsx'\n",
    "jcafb_cadastro_campanha_4_sheet = 'cadastro_pacientes_dhc2_a4'"
   ]
  },
  {
   "cell_type": "markdown",
   "id": "27fab3fa-6136-4f1a-9cb3-8216507779b6",
   "metadata": {},
   "source": [
    "## Arquivos de Saída"
   ]
  },
  {
   "cell_type": "markdown",
   "id": "e5d60262-614c-4391-8d5a-0b1259515866",
   "metadata": {},
   "source": [
    "### Lista de Códigos Inválidos"
   ]
  },
  {
   "cell_type": "code",
   "execution_count": 8,
   "id": "7e4d5f7e-01e1-433c-831f-b28a7b7826cc",
   "metadata": {},
   "outputs": [],
   "source": [
    "invalid_codes_path = 'data/jcafb_2025_dhc2_invalid_codes.xlsx'\n",
    "invalid_codes_sheet = 'dhc2_invalid_codes'"
   ]
  },
  {
   "cell_type": "markdown",
   "id": "1856691d-e350-4b6e-b497-793796e7ad7d",
   "metadata": {},
   "source": [
    "### Lista de Ids incluídos"
   ]
  },
  {
   "cell_type": "code",
   "execution_count": 9,
   "id": "a55dff43-1ec1-44df-9ced-0d27b17b842c",
   "metadata": {},
   "outputs": [],
   "source": [
    "new_ids_path = 'data/jcafb_2025_dhc2_new_ids.xlsx'\n",
    "new_ids_sheet = 'dhc2_new_ids'"
   ]
  },
  {
   "cell_type": "markdown",
   "id": "e3d83b89-f7fb-46e7-8fdc-527c82794940",
   "metadata": {},
   "source": [
    "### Lista de Registros incluídos"
   ]
  },
  {
   "cell_type": "code",
   "execution_count": 10,
   "id": "f5d69ed7-0c73-4ea2-aa57-d5a26e99f7da",
   "metadata": {},
   "outputs": [],
   "source": [
    "new_records_path = 'data/jcafb_2025_dhc2_new_records.xlsx'\n",
    "new_records_sheet = 'dhc2_new_records'"
   ]
  },
  {
   "cell_type": "markdown",
   "id": "2f5692df-f884-403c-990a-ee4da256035f",
   "metadata": {},
   "source": [
    "### Lista de Atualizações"
   ]
  },
  {
   "cell_type": "code",
   "execution_count": 11,
   "id": "3ded0891-81a6-4aec-a5d5-c430bdd92df8",
   "metadata": {},
   "outputs": [],
   "source": [
    "updt_records_path = 'data/jcafb_2025_dhc2_updt_records.xlsx'\n",
    "updt_records_sheet = 'dhc2_updt_records'"
   ]
  },
  {
   "cell_type": "markdown",
   "id": "8b57c12e-c1db-40bf-8460-ee6ad85d92af",
   "metadata": {},
   "source": [
    "### Cadastro de Pacientes Atualizado"
   ]
  },
  {
   "cell_type": "code",
   "execution_count": 12,
   "id": "1e9ac540-bb01-410c-9d79-e4f465928950",
   "metadata": {},
   "outputs": [],
   "source": [
    "jcafb_cadastro_pacientes_updt_path = 'data/jcafb_2025_cadastro_pacientes_dhc2_updt.xlsx'\n",
    "jcafb_cadastro_pacientes_updt_sheet = 'cadastro_pacientes_dhc2_updt'"
   ]
  },
  {
   "cell_type": "markdown",
   "id": "424a987a-ff3c-4ab8-81bb-4e5407ef8fdd",
   "metadata": {},
   "source": [
    "### Cadastro de Pacientes para importação no Odoo"
   ]
  },
  {
   "cell_type": "code",
   "execution_count": 13,
   "id": "4e9a339c-464e-44a4-a2a9-7bb9f7448566",
   "metadata": {},
   "outputs": [],
   "source": [
    "jcafb_cadastro_pacientes_odoo_path = 'data//jcafb_2025_cadastro_pacientes_dhc2_odoo.xlsx'\n",
    "jcafb_cadastro_pacientes_odoo_sheet = 'cadastro_pacientes_dhc2_odoo'"
   ]
  },
  {
   "cell_type": "markdown",
   "id": "3eb2b00b-9e53-403b-9127-83cd6bf95b0f",
   "metadata": {},
   "source": [
    "# Funções de Suporte"
   ]
  },
  {
   "cell_type": "code",
   "execution_count": 14,
   "id": "19957354-c536-400d-8e9e-e6908f28c4aa",
   "metadata": {},
   "outputs": [],
   "source": [
    "def somaPoderada(numero):\n",
    "    i = 0\n",
    "    soma = 0\n",
    "    while i<len(numero):\n",
    "        soma = soma+int(numero[i]) * (15 - i)\n",
    "        i = i+1\n",
    "    return soma\n",
    "\n",
    "def validaCNS(numero):\n",
    "    numero = str(numero)\n",
    "    if numero.isdigit():\n",
    "        if re.match(r'[1-2]\\d{10}00[0-1]\\d$',numero) or re.match(r'[7-9]\\d{14}$',numero):\n",
    "            return somaPoderada(numero) % 11 == 0\n",
    "    return False\n",
    "\n",
    "# validaCNS('703008820145471')\n",
    "# validaCNS('702803658947067')\n",
    "# validaCNS('704301554368493')\n",
    "# validaCNS('700506784991850')\n"
   ]
  },
  {
   "cell_type": "code",
   "execution_count": 15,
   "id": "1e30c998-0f7e-4f85-bdd1-760733f0e0c9",
   "metadata": {},
   "outputs": [],
   "source": [
    "def format_code(code_seq):\n",
    "    code = list(map(int, str(code_seq)))\n",
    "    code_len = len(code)\n",
    "    while len(code) < 14:\n",
    "        code.insert(0, 0)\n",
    "    while len(code) < 16:\n",
    "        n = sum([(len(code) + 1 - i) * v for i, v in enumerate(code)]) % 11\n",
    "        if n > 1:\n",
    "            f = 11 - n\n",
    "        else:\n",
    "            f = 0\n",
    "        code.append(f)\n",
    "    code_str = \"%s.%s.%s.%s.%s-%s\" % (str(code[0]) + str(code[1]),\n",
    "                                      str(code[2]) + str(code[3]) + str(code[4]),\n",
    "                                      str(code[5]) + str(code[6]) + str(code[7]),\n",
    "                                      str(code[8]) + str(code[9]) + str(code[10]),\n",
    "                                      str(code[11]) + str(code[12]) + str(code[13]),\n",
    "                                      str(code[14]) + str(code[15]))\n",
    "    if code_len <= 3:\n",
    "        code_form = code_str[18 - code_len:21]\n",
    "    elif code_len > 3 and code_len <= 6:\n",
    "        code_form = code_str[17 - code_len:21]\n",
    "    elif code_len > 6 and code_len <= 9:\n",
    "        code_form = code_str[16 - code_len:21]\n",
    "    elif code_len > 9 and code_len <= 12:\n",
    "        code_form = code_str[15 - code_len:21]\n",
    "    elif code_len > 12 and code_len <= 14:\n",
    "        code_form = code_str[14 - code_len:21]\n",
    "    return code_form\n",
    "\n",
    "def validaCPF(code):\n",
    "\n",
    "    if code is not False:\n",
    "\n",
    "        sequence_str = ''\n",
    "        for c in code:\n",
    "            if c.isdigit():\n",
    "                sequence_str = sequence_str + c\n",
    "        sequence_str = sequence_str[:len(sequence_str) - 2]\n",
    "        _format_code = format_code(sequence_str)\n",
    "\n",
    "        if code == _format_code:\n",
    "            return True\n",
    "\n",
    "    return False\n",
    "\n",
    "# validaCPF('551.583.048-23')\n",
    "# validaCPF('525.338.988-13')"
   ]
  },
  {
   "cell_type": "markdown",
   "id": "787f4b27-21ea-4c13-885b-49d8f1bf4101",
   "metadata": {},
   "source": [
    "# Leitura do Cadastro de Referência"
   ]
  },
  {
   "cell_type": "code",
   "execution_count": 16,
   "id": "f3ed28a4-12c1-4682-8252-3ccb6db7b07a",
   "metadata": {},
   "outputs": [
    {
     "name": "stderr",
     "output_type": "stream",
     "text": [
      "INFO:__main__:--> jcafb_cadastro_pacientes_ref Columns: ['id', 'name', 'code', 'birthday', 'gender', 'zip', 'street_name', 'street_number', 'street_number2', 'street2', 'city_id/name', 'city_id/id', 'state_id/name', 'state_id/id', 'country_id/name', 'country_id/id', 'phone', 'state', 'employee_id/name', 'category_names', 'DHC1', 'Anemia1', 'DHC2', 'Anemia2']\n",
      "INFO:__main__:--> jcafb_cadastro_pacientes_ref Number of rows: 852\n"
     ]
    }
   ],
   "source": [
    "xls_jcafb_cadastro_pacientes_ref = pd.ExcelFile(jcafb_cadastro_pacientes_ref_path)\n",
    "jcafb_cadastro_pacientes_ref = pd.read_excel(xls_jcafb_cadastro_pacientes_ref,\n",
    "                                             sheet_name=jcafb_cadastro_pacientes_ref_sheet,\n",
    "                                             na_filter=False)\n",
    "\n",
    "_logger.info(u'%s %s %s', '-->', 'jcafb_cadastro_pacientes_ref Columns:', jcafb_cadastro_pacientes_ref.columns.tolist())\n",
    "_logger.info(u'%s %s %s', '-->', 'jcafb_cadastro_pacientes_ref Number of rows:', len(jcafb_cadastro_pacientes_ref))\n"
   ]
  },
  {
   "cell_type": "markdown",
   "id": "dd1498bb-d7c1-450a-97d8-05d3d458713c",
   "metadata": {},
   "source": [
    "# Leitura do Cadastro Atualizado"
   ]
  },
  {
   "cell_type": "code",
   "execution_count": 17,
   "id": "f5cd4080-0539-4959-808a-5ecb6a59a092",
   "metadata": {},
   "outputs": [
    {
     "name": "stderr",
     "output_type": "stream",
     "text": [
      "INFO:__main__:--> jcafb_cadastro_pacientes_ref Columns: ['id', 'name', 'code', 'birthday', 'gender', 'zip', 'street_name', 'street_number', 'street_number2', 'street2', 'city_id/name', 'city_id/id', 'state_id/name', 'state_id/id', 'country_id/name', 'country_id/id', 'phone', 'state', 'employee_id/name', 'category_names', 'DHC1', 'Anemia1', 'DHC2', 'Anemia2', 'new', 'revised']\n",
      "INFO:__main__:--> jcafb_cadastro_pacientes_ref Number of rows: 852\n"
     ]
    }
   ],
   "source": [
    "xls_jcafb_cadastro_pacientes_updt = pd.ExcelFile(jcafb_cadastro_pacientes_ref_path)\n",
    "jcafb_cadastro_pacientes_updt = pd.read_excel(xls_jcafb_cadastro_pacientes_updt,\n",
    "                                              sheet_name=jcafb_cadastro_pacientes_ref_sheet,\n",
    "                                              na_filter=False)\n",
    "\n",
    "pos = len(jcafb_cadastro_pacientes_updt.columns)\n",
    "jcafb_cadastro_pacientes_updt.insert(pos, 'revised', '')\n",
    "jcafb_cadastro_pacientes_updt.insert(pos, 'new', '')\n",
    "\n",
    "_logger.info(u'%s %s %s', '-->', 'jcafb_cadastro_pacientes_ref Columns:', jcafb_cadastro_pacientes_updt.columns.tolist())\n",
    "_logger.info(u'%s %s %s', '-->', 'jcafb_cadastro_pacientes_ref Number of rows:', len(jcafb_cadastro_pacientes_updt))\n"
   ]
  },
  {
   "cell_type": "markdown",
   "id": "f0f4f369-4f03-41f8-82c7-4e92cdad3a91",
   "metadata": {},
   "source": [
    "# Leitura dos Cadastros de Campanha"
   ]
  },
  {
   "cell_type": "markdown",
   "id": "24eb58af-d788-45b4-b626-730020b469ca",
   "metadata": {},
   "source": [
    "## Cadastro de Campanha (arquivo 1)"
   ]
  },
  {
   "cell_type": "code",
   "execution_count": 18,
   "id": "ae4a5557-9d52-44d4-9e4c-b5d61c0cf0d3",
   "metadata": {},
   "outputs": [
    {
     "name": "stderr",
     "output_type": "stream",
     "text": [
      "INFO:__main__:--> jcafb_cadastro_campanha_1 Columns: ['id', 'name', 'code', 'birthday', 'gender', 'zip', 'street_name', 'street_number', 'street_number2', 'street2', 'city_id/name', 'city_id/id', 'state_id/name', 'state_id/id', 'country_id/name', 'country_id/id', 'phone', 'state', 'employee_id/name', 'category_names', 'DHC1', 'Anemia1', 'DHC2', 'Anemia2']\n",
      "INFO:__main__:--> jcafb_cadastro_campanha_1 Number of rows: 852\n"
     ]
    }
   ],
   "source": [
    "xls_jcafb_cadastro_campanha_1 = pd.ExcelFile(jcafb_cadastro_campanha_1_path)\n",
    "jcafb_cadastro_campanha_1 = pd.read_excel(xls_jcafb_cadastro_campanha_1,\n",
    "                                          sheet_name=jcafb_cadastro_campanha_1_sheet,\n",
    "                                          na_filter=False)\n",
    "\n",
    "_logger.info(u'%s %s %s', '-->', 'jcafb_cadastro_campanha_1 Columns:', jcafb_cadastro_campanha_1.columns.tolist())\n",
    "_logger.info(u'%s %s %s', '-->', 'jcafb_cadastro_campanha_1 Number of rows:', len(jcafb_cadastro_campanha_1))\n"
   ]
  },
  {
   "cell_type": "markdown",
   "id": "b2853c22-79d7-4058-b445-982e1c994f15",
   "metadata": {},
   "source": [
    "## Cadastro de Campanha (arquivo 2)"
   ]
  },
  {
   "cell_type": "code",
   "execution_count": 19,
   "id": "7adcd3de-fd42-4d7c-9b41-6c4758b07385",
   "metadata": {},
   "outputs": [
    {
     "name": "stderr",
     "output_type": "stream",
     "text": [
      "INFO:__main__:--> jcafb_cadastro_campanha_2 Columns: ['id', 'name', 'code', 'birthday', 'gender', 'zip', 'street_name', 'street_number', 'street_number2', 'street2', 'city_id/name', 'city_id/id', 'state_id/name', 'state_id/id', 'country_id/name', 'country_id/id', 'phone', 'state', 'employee_id/name', 'category_names', 'DHC1', 'Anemia1', 'DHC2', 'Anemia2']\n",
      "INFO:__main__:--> jcafb_cadastro_campanha_2 Number of rows: 852\n"
     ]
    }
   ],
   "source": [
    "xls_jcafb_cadastro_campanha_2 = pd.ExcelFile(jcafb_cadastro_campanha_2_path)\n",
    "jcafb_cadastro_campanha_2 = pd.read_excel(xls_jcafb_cadastro_campanha_2,\n",
    "                                          sheet_name=jcafb_cadastro_campanha_2_sheet,\n",
    "                                          na_filter=False)\n",
    "\n",
    "_logger.info(u'%s %s %s', '-->', 'jcafb_cadastro_campanha_2 Columns:', jcafb_cadastro_campanha_2.columns.tolist())\n",
    "_logger.info(u'%s %s %s', '-->', 'jcafb_cadastro_campanha_2 Number of rows:', len(jcafb_cadastro_campanha_2))\n"
   ]
  },
  {
   "cell_type": "markdown",
   "id": "70d3bc91-9abb-498f-8503-5b38086c95a3",
   "metadata": {},
   "source": [
    "## Cadastro de Campanha (arquivo 3)"
   ]
  },
  {
   "cell_type": "code",
   "execution_count": 20,
   "id": "3d823bb9-bbbd-43fa-b6fc-e9a5bd9e7c77",
   "metadata": {},
   "outputs": [
    {
     "name": "stderr",
     "output_type": "stream",
     "text": [
      "INFO:__main__:--> jcafb_cadastro_campanha_3 Columns: ['id', 'name', 'code', 'birthday', 'gender', 'zip', 'street_name', 'street_number', 'street_number2', 'street2', 'city_id/name', 'city_id/id', 'state_id/name', 'state_id/id', 'country_id/name', 'country_id/id', 'phone', 'state', 'employee_id/name', 'category_names', 'DHC1', 'Anemia1', 'DHC2', 'Anemia2']\n",
      "INFO:__main__:--> jcafb_cadastro_campanha_3 Number of rows: 852\n"
     ]
    }
   ],
   "source": [
    "xls_jcafb_cadastro_campanha_3 = pd.ExcelFile(jcafb_cadastro_campanha_3_path)\n",
    "jcafb_cadastro_campanha_3 = pd.read_excel(xls_jcafb_cadastro_campanha_3,\n",
    "                                          sheet_name=jcafb_cadastro_campanha_3_sheet,\n",
    "                                          na_filter=False)\n",
    "\n",
    "_logger.info(u'%s %s %s', '-->', 'jcafb_cadastro_campanha_3 Columns:', jcafb_cadastro_campanha_3.columns.tolist())\n",
    "_logger.info(u'%s %s %s', '-->', 'jcafb_cadastro_campanha_3 Number of rows:', len(jcafb_cadastro_campanha_3))\n"
   ]
  },
  {
   "cell_type": "markdown",
   "id": "38371eb2-8eea-4b60-88aa-df9528133bba",
   "metadata": {},
   "source": [
    "## Cadastro de Campanha (arquivo 4)"
   ]
  },
  {
   "cell_type": "code",
   "execution_count": 21,
   "id": "6b357a67-84bc-4ee1-9782-1047bef9afb0",
   "metadata": {},
   "outputs": [
    {
     "name": "stderr",
     "output_type": "stream",
     "text": [
      "INFO:__main__:--> jcafb_cadastro_campanha_4 Columns: ['id', 'name', 'code', 'birthday', 'gender', 'zip', 'street_name', 'street_number', 'street_number2', 'street2', 'city_id/name', 'city_id/id', 'state_id/name', 'state_id/id', 'country_id/name', 'country_id/id', 'phone', 'state', 'employee_id/name', 'category_names', 'DHC1', 'Anemia1', 'DHC2', 'Anemia2']\n",
      "INFO:__main__:--> jcafb_cadastro_campanha_4 Number of rows: 852\n"
     ]
    }
   ],
   "source": [
    "xls_jcafb_cadastro_campanha_4 = pd.ExcelFile(jcafb_cadastro_campanha_4_path)\n",
    "jcafb_cadastro_campanha_4 = pd.read_excel(xls_jcafb_cadastro_campanha_4,\n",
    "                                          sheet_name=jcafb_cadastro_campanha_4_sheet,\n",
    "                                          na_filter=False)\n",
    "\n",
    "_logger.info(u'%s %s %s', '-->', 'jcafb_cadastro_campanha_4 Columns:', jcafb_cadastro_campanha_4.columns.tolist())\n",
    "_logger.info(u'%s %s %s', '-->', 'jcafb_cadastro_campanha_4 Number of rows:', len(jcafb_cadastro_campanha_4))\n"
   ]
  },
  {
   "cell_type": "markdown",
   "id": "2e79499d-1036-4f59-a39d-79ca96e50e07",
   "metadata": {},
   "source": [
    "# Validar Cadastros de Campanha"
   ]
  },
  {
   "cell_type": "markdown",
   "id": "98e45232-ce58-46b3-b5f7-4ea05ee22f67",
   "metadata": {},
   "source": [
    "## Validação do \"Código do Paciente\""
   ]
  },
  {
   "cell_type": "code",
   "execution_count": 22,
   "id": "592ff005-1742-4cee-8bb4-0b36ab825105",
   "metadata": {},
   "outputs": [],
   "source": [
    "column_names = ['íd', 'name', 'code', 'source', 'row']\n",
    "invalid_codes = pd.DataFrame(columns=column_names)\n",
    "\n",
    "def code_validation(jcafb_cadastro_campanha, source):\n",
    "\n",
    "    for i, row in jcafb_cadastro_campanha.iterrows():\n",
    "\n",
    "        _code = row['code']\n",
    "        validate = False\n",
    "        if validaCNS(_code):\n",
    "            validate = True\n",
    "        if not validate:\n",
    "            if validaCPF(_code):\n",
    "                validate = True\n",
    "        if not validate:\n",
    "            new_row = {'id': row['id'],\n",
    "                       'name': row['name'],\n",
    "                       'code': _code,\n",
    "                       'row': i + 2,\n",
    "                       'source': source\n",
    "                      }\n",
    "            _logger.info(u'%s %s %s', '-->', 'Invalid Code:', new_row)\n",
    "            invalid_codes.loc[len(invalid_codes)] = new_row\n"
   ]
  },
  {
   "cell_type": "markdown",
   "id": "c301f459-bdc9-46be-9dd9-208b6e65368b",
   "metadata": {},
   "source": [
    "### Cadastro de Campanha (arquivo 1)"
   ]
  },
  {
   "cell_type": "code",
   "execution_count": 23,
   "id": "097d4a20-9a01-498e-828d-456807abb311",
   "metadata": {},
   "outputs": [],
   "source": [
    "code_validation(jcafb_cadastro_campanha_1, jcafb_cadastro_campanha_1_sheet)\n"
   ]
  },
  {
   "cell_type": "markdown",
   "id": "a5039700-3fcf-4ef2-b1ad-16012e9d7fcc",
   "metadata": {},
   "source": [
    "### Cadastro de Campanha (arquivo 2)"
   ]
  },
  {
   "cell_type": "code",
   "execution_count": 24,
   "id": "2b9b56ba-f957-416f-b888-57a7d306438f",
   "metadata": {},
   "outputs": [],
   "source": [
    "code_validation(jcafb_cadastro_campanha_2, jcafb_cadastro_campanha_2_sheet)\n"
   ]
  },
  {
   "cell_type": "markdown",
   "id": "30cc746f-f96a-40dd-aa73-a2837f35e59c",
   "metadata": {},
   "source": [
    "### Cadastro de Campanha (arquivo 3)"
   ]
  },
  {
   "cell_type": "code",
   "execution_count": 25,
   "id": "27d32331-7509-4ce3-bb53-a39717daa797",
   "metadata": {},
   "outputs": [],
   "source": [
    "code_validation(jcafb_cadastro_campanha_3, jcafb_cadastro_campanha_3_sheet)\n"
   ]
  },
  {
   "cell_type": "markdown",
   "id": "33cc4e88-142b-4353-b568-57dbd2e4e19f",
   "metadata": {},
   "source": [
    "### Cadastro de Campanha (arquivo 4)"
   ]
  },
  {
   "cell_type": "code",
   "execution_count": 26,
   "id": "117d3ab4-0449-4c3f-88d3-608196faab62",
   "metadata": {},
   "outputs": [],
   "source": [
    "code_validation(jcafb_cadastro_campanha_4, jcafb_cadastro_campanha_4_sheet)\n"
   ]
  },
  {
   "cell_type": "markdown",
   "id": "64a4c202-b312-49cd-9bfb-69c7529e461a",
   "metadata": {},
   "source": [
    "## Lista de Códigos Inválidos"
   ]
  },
  {
   "cell_type": "code",
   "execution_count": 27,
   "id": "bf276dab-a024-485c-8d4e-878b1f864835",
   "metadata": {},
   "outputs": [
    {
     "data": {
      "text/html": [
       "<div>\n",
       "<style scoped>\n",
       "    .dataframe tbody tr th:only-of-type {\n",
       "        vertical-align: middle;\n",
       "    }\n",
       "\n",
       "    .dataframe tbody tr th {\n",
       "        vertical-align: top;\n",
       "    }\n",
       "\n",
       "    .dataframe thead th {\n",
       "        text-align: right;\n",
       "    }\n",
       "</style>\n",
       "<table border=\"1\" class=\"dataframe\">\n",
       "  <thead>\n",
       "    <tr style=\"text-align: right;\">\n",
       "      <th></th>\n",
       "      <th>íd</th>\n",
       "      <th>name</th>\n",
       "      <th>code</th>\n",
       "      <th>source</th>\n",
       "      <th>row</th>\n",
       "    </tr>\n",
       "  </thead>\n",
       "  <tbody>\n",
       "  </tbody>\n",
       "</table>\n",
       "</div>"
      ],
      "text/plain": [
       "Empty DataFrame\n",
       "Columns: [íd, name, code, source, row]\n",
       "Index: []"
      ]
     },
     "execution_count": 27,
     "metadata": {},
     "output_type": "execute_result"
    }
   ],
   "source": [
    "invalid_codes"
   ]
  },
  {
   "cell_type": "markdown",
   "id": "da7b63e4-3732-4dd1-b743-8c194ad1d528",
   "metadata": {},
   "source": [
    "## Inclusão de novos \"ids\""
   ]
  },
  {
   "cell_type": "code",
   "execution_count": 28,
   "id": "41f4b554-62ba-41e9-93f0-d7abc230a3b3",
   "metadata": {},
   "outputs": [],
   "source": [
    "column_names = ['id', 'name', 'code', 'source', 'row']\n",
    "new_ids = pd.DataFrame(columns=column_names)\n",
    "\n",
    "def new_ids_inclusion(jcafb_cadastro_campanha, source):\n",
    "\n",
    "    for i, row in jcafb_cadastro_campanha.iterrows():\n",
    "\n",
    "        _id = row['id']\n",
    "        _code = row['code']\n",
    "\n",
    "        if _id == '':\n",
    "            sequence_str = ''\n",
    "            for c in _code:\n",
    "                if c.isdigit():\n",
    "                    sequence_str = sequence_str + c\n",
    "            _id = '__import__.clv_patient_' + sequence_str\n",
    "            new_row = {'id': _id,\n",
    "                       'name': row['name'],\n",
    "                       'code': _code,\n",
    "                       'source': source,\n",
    "                       'row': i + 2\n",
    "                      }\n",
    "            _logger.info(u'%s %s %s', '-->', 'Novo id:', new_row)\n",
    "            new_ids.loc[len(new_ids)] = new_row\n",
    "            jcafb_cadastro_campanha['id'].values[i] = _id\n"
   ]
  },
  {
   "cell_type": "markdown",
   "id": "1cb47b45-6e09-4e6c-8b6e-3180c8d05dcc",
   "metadata": {},
   "source": [
    "### Cadastro de Campanha (arquivo 1)"
   ]
  },
  {
   "cell_type": "code",
   "execution_count": 29,
   "id": "55f2b995-a5fb-4ee9-9263-4d5dadf1c243",
   "metadata": {},
   "outputs": [],
   "source": [
    "new_ids_inclusion(jcafb_cadastro_campanha_1, jcafb_cadastro_campanha_1_sheet)\n"
   ]
  },
  {
   "cell_type": "markdown",
   "id": "329a5729-9bc6-4e9f-992b-b040a21c9962",
   "metadata": {},
   "source": [
    "### Cadastro de Campanha (arquivo 2)"
   ]
  },
  {
   "cell_type": "code",
   "execution_count": 30,
   "id": "f27c5e3d-6889-495a-b945-67527f68c9d8",
   "metadata": {},
   "outputs": [],
   "source": [
    "new_ids_inclusion(jcafb_cadastro_campanha_2, jcafb_cadastro_campanha_2_sheet)\n"
   ]
  },
  {
   "cell_type": "markdown",
   "id": "f52a1d86-7547-4910-85d0-386341ac532c",
   "metadata": {},
   "source": [
    "### Cadastro de Campanha (arquivo 3)"
   ]
  },
  {
   "cell_type": "code",
   "execution_count": 31,
   "id": "dda8559e-81a6-42bd-8bf0-4990de044810",
   "metadata": {},
   "outputs": [],
   "source": [
    "new_ids_inclusion(jcafb_cadastro_campanha_3, jcafb_cadastro_campanha_3_sheet)\n"
   ]
  },
  {
   "cell_type": "markdown",
   "id": "88510858-19a4-4363-88bb-6d2163222e19",
   "metadata": {},
   "source": [
    "### Cadastro de Campanha (arquivo 4)"
   ]
  },
  {
   "cell_type": "code",
   "execution_count": 32,
   "id": "5ac73bcf-15f5-4f42-b07e-e963e484483f",
   "metadata": {},
   "outputs": [],
   "source": [
    "new_ids_inclusion(jcafb_cadastro_campanha_4, jcafb_cadastro_campanha_4_sheet)\n"
   ]
  },
  {
   "cell_type": "markdown",
   "id": "d4583c67-ef38-4b4c-a43a-174396ead7d4",
   "metadata": {},
   "source": [
    "## Lista de Ids incluídos"
   ]
  },
  {
   "cell_type": "code",
   "execution_count": 33,
   "id": "b324543f-062e-40a4-86a9-e274fb8c9063",
   "metadata": {},
   "outputs": [
    {
     "data": {
      "text/html": [
       "<div>\n",
       "<style scoped>\n",
       "    .dataframe tbody tr th:only-of-type {\n",
       "        vertical-align: middle;\n",
       "    }\n",
       "\n",
       "    .dataframe tbody tr th {\n",
       "        vertical-align: top;\n",
       "    }\n",
       "\n",
       "    .dataframe thead th {\n",
       "        text-align: right;\n",
       "    }\n",
       "</style>\n",
       "<table border=\"1\" class=\"dataframe\">\n",
       "  <thead>\n",
       "    <tr style=\"text-align: right;\">\n",
       "      <th></th>\n",
       "      <th>id</th>\n",
       "      <th>name</th>\n",
       "      <th>code</th>\n",
       "      <th>source</th>\n",
       "      <th>row</th>\n",
       "    </tr>\n",
       "  </thead>\n",
       "  <tbody>\n",
       "  </tbody>\n",
       "</table>\n",
       "</div>"
      ],
      "text/plain": [
       "Empty DataFrame\n",
       "Columns: [id, name, code, source, row]\n",
       "Index: []"
      ]
     },
     "execution_count": 33,
     "metadata": {},
     "output_type": "execute_result"
    }
   ],
   "source": [
    "new_ids"
   ]
  },
  {
   "cell_type": "markdown",
   "id": "280b046f-7967-4457-be33-863798d37262",
   "metadata": {},
   "source": [
    "# Atualizar Cadastro"
   ]
  },
  {
   "cell_type": "markdown",
   "id": "fbd4ea44-5c9a-4e13-9e7b-3b547595765d",
   "metadata": {},
   "source": [
    "## Incluir novos registros"
   ]
  },
  {
   "cell_type": "code",
   "execution_count": 34,
   "id": "c10cfcf4-0a3d-4777-8dbe-f66ed55a77c1",
   "metadata": {},
   "outputs": [],
   "source": [
    "column_names = ['id', 'name', 'code', 'source', 'source_row', 'updt_row']\n",
    "new_records = pd.DataFrame(columns=column_names)\n",
    "\n",
    "def new_records_inclusion(jcafb_cadastro_campanha, source):\n",
    "\n",
    "    for i, row in jcafb_cadastro_campanha.iterrows():\n",
    "\n",
    "        _id = row['id']\n",
    "        index = jcafb_cadastro_pacientes_ref.loc[jcafb_cadastro_pacientes_ref['id'] == _id]\n",
    "        if len(index) == 0:\n",
    "            # new_row = {'id': _id,\n",
    "            #            'name': row['name'],\n",
    "            #            'code': row['code'],\n",
    "            #            'birthday': row['birthday'],\n",
    "            #            'gender': row['gender'],\n",
    "            #           }\n",
    "            new_record_pos = len(jcafb_cadastro_pacientes_updt)\n",
    "            # jcafb_cadastro_pacientes_updt.loc[new_record_pos] = new_row\n",
    "            jcafb_cadastro_pacientes_updt.loc[new_record_pos] = row\n",
    "            jcafb_cadastro_pacientes_updt['new'].values[new_record_pos] = 'x'\n",
    "            _logger.info(u'%s %s %s', '-->', 'Novo Registro:', jcafb_cadastro_pacientes_updt.values[new_record_pos])\n",
    "\n",
    "            new_row = {'id': _id,\n",
    "                       'name': row['name'],\n",
    "                       'code': row['code'],\n",
    "                       'source': source,\n",
    "                       'source_row': i + 2,\n",
    "                       'updt_row': new_record_pos + 2\n",
    "                      }\n",
    "            pos = len(new_records)\n",
    "            new_records.loc[pos] = new_row\n"
   ]
  },
  {
   "cell_type": "markdown",
   "id": "9e4a0c75-3770-473f-bd97-4dcd3d7d069c",
   "metadata": {},
   "source": [
    "### Cadastro de Campanha (arquivo 1)"
   ]
  },
  {
   "cell_type": "code",
   "execution_count": 35,
   "id": "b1a23603-65f0-4c84-b8be-c44aeb962b5c",
   "metadata": {},
   "outputs": [],
   "source": [
    "new_records_inclusion(jcafb_cadastro_campanha_1, jcafb_cadastro_campanha_1_sheet)\n"
   ]
  },
  {
   "cell_type": "markdown",
   "id": "a3276f7c-264d-431a-bc06-9d822b1192ce",
   "metadata": {},
   "source": [
    "### Cadastro de Campanha (arquivo 2)"
   ]
  },
  {
   "cell_type": "code",
   "execution_count": 36,
   "id": "b7b8985a-286f-484b-ba86-f1c4554c7a49",
   "metadata": {},
   "outputs": [],
   "source": [
    "new_records_inclusion(jcafb_cadastro_campanha_2, jcafb_cadastro_campanha_2_sheet)\n"
   ]
  },
  {
   "cell_type": "markdown",
   "id": "ee0d9806-bd4f-46e5-8d87-533294a40f70",
   "metadata": {},
   "source": [
    "### Cadastro de Campanha (arquivo 3)"
   ]
  },
  {
   "cell_type": "code",
   "execution_count": 37,
   "id": "15079914-a2d0-49b7-9782-90c84857622b",
   "metadata": {},
   "outputs": [],
   "source": [
    "new_records_inclusion(jcafb_cadastro_campanha_3, jcafb_cadastro_campanha_3_sheet)\n"
   ]
  },
  {
   "cell_type": "markdown",
   "id": "e6aff2c7-f343-42db-9741-40c2c92067e0",
   "metadata": {},
   "source": [
    "### Cadastro de Campanha (arquivo 4)"
   ]
  },
  {
   "cell_type": "code",
   "execution_count": 38,
   "id": "442242c5-c45b-4752-a355-1c5d9a7272f3",
   "metadata": {},
   "outputs": [],
   "source": [
    "new_records_inclusion(jcafb_cadastro_campanha_4, jcafb_cadastro_campanha_4_sheet)\n"
   ]
  },
  {
   "cell_type": "markdown",
   "id": "8f7f3ff7-d15f-4175-9e50-601ca5562859",
   "metadata": {},
   "source": [
    "## Lista de Registros incluídos"
   ]
  },
  {
   "cell_type": "code",
   "execution_count": 39,
   "id": "d24ac941-3b76-4152-a43d-d425078afb71",
   "metadata": {},
   "outputs": [
    {
     "data": {
      "text/html": [
       "<div>\n",
       "<style scoped>\n",
       "    .dataframe tbody tr th:only-of-type {\n",
       "        vertical-align: middle;\n",
       "    }\n",
       "\n",
       "    .dataframe tbody tr th {\n",
       "        vertical-align: top;\n",
       "    }\n",
       "\n",
       "    .dataframe thead th {\n",
       "        text-align: right;\n",
       "    }\n",
       "</style>\n",
       "<table border=\"1\" class=\"dataframe\">\n",
       "  <thead>\n",
       "    <tr style=\"text-align: right;\">\n",
       "      <th></th>\n",
       "      <th>id</th>\n",
       "      <th>name</th>\n",
       "      <th>code</th>\n",
       "      <th>source</th>\n",
       "      <th>source_row</th>\n",
       "      <th>updt_row</th>\n",
       "    </tr>\n",
       "  </thead>\n",
       "  <tbody>\n",
       "  </tbody>\n",
       "</table>\n",
       "</div>"
      ],
      "text/plain": [
       "Empty DataFrame\n",
       "Columns: [id, name, code, source, source_row, updt_row]\n",
       "Index: []"
      ]
     },
     "execution_count": 39,
     "metadata": {},
     "output_type": "execute_result"
    }
   ],
   "source": [
    "new_records"
   ]
  },
  {
   "cell_type": "markdown",
   "id": "6b817d91-e7fa-4dcc-a50a-20d64eca6910",
   "metadata": {},
   "source": [
    "## Cadastro de Pacientes Atualizado"
   ]
  },
  {
   "cell_type": "code",
   "execution_count": 40,
   "id": "1f85705f-7ff6-43f2-91a6-8aa9f5222008",
   "metadata": {},
   "outputs": [
    {
     "name": "stdout",
     "output_type": "stream",
     "text": [
      "                                     id                            name  \\\n",
      "0    __import__.clv_patient_70905207815              Abel Lucas Bertoni   \n",
      "1    __import__.clv_patient_82625760800              Adalberto de Sousa   \n",
      "2    __import__.clv_patient_28019727892      Adelaide Francisco Machado   \n",
      "3    __import__.clv_patient_05852199826        Adelia Aparecida Fontana   \n",
      "4    __import__.clv_patient_04227049890          Ademar Antonio Dagoano   \n",
      "..                                  ...                             ...   \n",
      "847  __import__.clv_patient_09614270861      Zeni Maria de Souza Pivato   \n",
      "848  __import__.clv_patient_34700464844  Zenilce de Souza Lima da Silva   \n",
      "849  __import__.clv_patient_82586993853          Zetir Maria Souza Tosi   \n",
      "850  __import__.clv_patient_25732126880            Zilda Pereira Cruaia   \n",
      "851  __import__.clv_patient_04980187846           Zilda Teixeira Cintra   \n",
      "\n",
      "               code   birthday  gender        zip  \\\n",
      "0    709.052.078-15 1955-06-01    Male  16680-000   \n",
      "1    826.257.608-00 1955-12-12    Male  16680-000   \n",
      "2    280.197.278-92 1948-03-13    Male  16680-000   \n",
      "3    058.521.998-26 1964-08-29  Female  16680-000   \n",
      "4    042.270.498-90 1947-05-14    Male  16680-000   \n",
      "..              ...        ...     ...        ...   \n",
      "847  096.142.708-61 1946-12-14  Female  16680-000   \n",
      "848  347.004.648-44 1947-08-20  Female  16680-000   \n",
      "849  825.869.938-53 1949-11-18  Female  16680-000   \n",
      "850  257.321.268-80 1957-10-04  Female  16680-000   \n",
      "851  049.801.878-46 1956-07-30  Female  16680-000   \n",
      "\n",
      "                             street_name street_number street_number2  \\\n",
      "0             Rua Coronel Juvencio Silva           152           Casa   \n",
      "1          Rua Antonio Bernardo da Cunha           289           Casa   \n",
      "2            Rua Antonio Manoel da Silva            90         Fundos   \n",
      "3    Travessa Leonilda Coelho de Azevedo           165           Casa   \n",
      "4          Rua Antonio Bernardo da Cunha           185           Casa   \n",
      "..                                   ...           ...            ...   \n",
      "847            Rua Amaro Militao de Lima            14           Casa   \n",
      "848             Avenida Manoel Rodrigues           127   Casa Fundo A   \n",
      "849                  Rua Domingos Zulian           231           Casa   \n",
      "850              Rua Barao do Rio Branco           872                  \n",
      "851                  Rua Domingos Zulian           885           Casa   \n",
      "\n",
      "           street2  ...            phone       state employee_id/name  \\\n",
      "0           Centro  ...  (14) 99797-9199   Available                    \n",
      "1          Baixada  ...  (14) 99760-8415   Available                    \n",
      "2    Vila Oliveira  ...  (14) 99646-1380   Available                    \n",
      "3          Baixada  ...  (14) 99680-2908    Selected  Grupo 01 (2025)   \n",
      "4          Baixada  ...  (14) 99633-7404  Unselected                    \n",
      "..             ...  ...              ...         ...              ...   \n",
      "847         Cohabs  ...  (14) 99677-6199   Available                    \n",
      "848         Cohabs  ...  (14) 3287-7156    Available                    \n",
      "849         Centro  ...  (14) 99795-1532  Unselected                    \n",
      "850        Baixada  ...  (14) 99615-5860   Available                    \n",
      "851  Vila Oliveira  ...  (14) 99713-8852   Available                    \n",
      "\n",
      "    category_names DHC1 Anemia1 DHC2 Anemia2 new revised  \n",
      "0            Idoso                                        \n",
      "1            Idoso                                        \n",
      "2            Idoso                                        \n",
      "3            Idoso                                        \n",
      "4            Idoso                                        \n",
      "..             ...  ...     ...  ...     ...  ..     ...  \n",
      "847          Idoso                                        \n",
      "848          Idoso                                        \n",
      "849          Idoso                                        \n",
      "850          Idoso                                        \n",
      "851          Idoso                                        \n",
      "\n",
      "[852 rows x 26 columns]\n"
     ]
    }
   ],
   "source": [
    "print(jcafb_cadastro_pacientes_updt)"
   ]
  },
  {
   "cell_type": "markdown",
   "id": "a32fa8ea-e9d0-4e27-a04d-f03dcb8bf260",
   "metadata": {},
   "source": [
    "## Atualizar Registros existentes"
   ]
  },
  {
   "cell_type": "markdown",
   "id": "f8b79350-dfce-4b2d-bada-6d1d21fb9892",
   "metadata": {},
   "source": [
    "### Cadastro de Campanha (arquivo 1)"
   ]
  },
  {
   "cell_type": "code",
   "execution_count": 41,
   "id": "b1607a76-6414-4dfe-b1b9-f5d596028fc6",
   "metadata": {},
   "outputs": [],
   "source": [
    "column_names = ['id', 'name', 'code', 'column_name', 'from', 'to', 'source', 'source_row']\n",
    "updt_records = pd.DataFrame(columns=column_names)\n",
    "\n",
    "def new_records_inclusion(jcafb_cadastro_campanha, source):\n",
    "\n",
    "    # column_names_list = ['name', 'birthday', 'gender',\n",
    "    #                      'zip', 'street_name', 'street_number', 'street_number2', 'street2',\n",
    "    #                      'city_id/name', 'city_id/id', 'state_id/name', 'state_id/id', 'country_id/name', 'country_id/id',\n",
    "    #                      'phone', 'notes',\n",
    "    #                      'DHC1', 'Anemia1', 'DHC2', 'Anemia2']\n",
    "    column_names_list = ['name', 'birthday', 'gender',\n",
    "                         'zip', 'street_name', 'street_number', 'street_number2', 'street2',\n",
    "                         'city_id/name', 'city_id/id', 'state_id/name', 'state_id/id', 'country_id/name', 'country_id/id',\n",
    "                         'phone',\n",
    "                         'DHC1', 'Anemia1', 'DHC2', 'Anemia2']\n",
    "\n",
    "    for i, row in jcafb_cadastro_campanha.iterrows():\n",
    "\n",
    "        _id = row['id']\n",
    "        index = jcafb_cadastro_pacientes_ref.loc[jcafb_cadastro_pacientes_ref['id'] == _id]\n",
    "        revised = False\n",
    "        if len(index) > 0:\n",
    "            for column_name in column_names_list:\n",
    "                if row[column_name] != index[column_name].iloc[0]:\n",
    "                    jcafb_cadastro_pacientes_updt.loc[jcafb_cadastro_pacientes_updt['id'] == _id, column_name] = row[column_name]\n",
    "                    revised = True\n",
    "\n",
    "                    new_row = {'id': _id,\n",
    "                               'name': row['name'],\n",
    "                               'code': row['code'],\n",
    "                               'column_name': column_name,\n",
    "                               'from': index[column_name].iloc[0],\n",
    "                               'to': row[column_name],\n",
    "                               'source': source,\n",
    "                               'source_row': i + 2\n",
    "                              }\n",
    "                    pos = len(updt_records)\n",
    "                    updt_records.loc[pos] = new_row\n",
    "                    _logger.info(u'%s %s %s', '-->', 'Atualização:', new_row)\n",
    "\n",
    "            if revised:\n",
    "                jcafb_cadastro_pacientes_updt.loc[jcafb_cadastro_pacientes_updt['id'] == _id, 'revised'] = 'x'\n"
   ]
  },
  {
   "cell_type": "code",
   "execution_count": 42,
   "id": "96880c9e-9cb5-43f1-a4b5-2d4ce55eddd3",
   "metadata": {},
   "outputs": [],
   "source": [
    "new_records_inclusion(jcafb_cadastro_campanha_1, jcafb_cadastro_campanha_1_sheet)\n"
   ]
  },
  {
   "cell_type": "markdown",
   "id": "5141a153-6f08-4eca-a200-46b36b2d493c",
   "metadata": {},
   "source": [
    "### Cadastro de Campanha (arquivo 2)"
   ]
  },
  {
   "cell_type": "code",
   "execution_count": 43,
   "id": "bd65ee6c-7acb-442f-9c5f-531b2acc34a1",
   "metadata": {},
   "outputs": [],
   "source": [
    "new_records_inclusion(jcafb_cadastro_campanha_2, jcafb_cadastro_campanha_2_sheet)\n"
   ]
  },
  {
   "cell_type": "markdown",
   "id": "30f37751-6158-42b6-90bb-80306c6dda9d",
   "metadata": {},
   "source": [
    "### Cadastro de Campanha (arquivo 3)"
   ]
  },
  {
   "cell_type": "code",
   "execution_count": 44,
   "id": "89033729-cac7-4286-a78a-fcd20373cae5",
   "metadata": {},
   "outputs": [],
   "source": [
    "new_records_inclusion(jcafb_cadastro_campanha_3, jcafb_cadastro_campanha_3_sheet)\n"
   ]
  },
  {
   "cell_type": "markdown",
   "id": "9817a8da-a9e2-46db-b5dc-9165c5d3186d",
   "metadata": {},
   "source": [
    "### Cadastro de Campanha (arquivo 4)"
   ]
  },
  {
   "cell_type": "code",
   "execution_count": 45,
   "id": "9c408496-0b32-49ae-860e-d4ba0fc5bf00",
   "metadata": {},
   "outputs": [],
   "source": [
    "new_records_inclusion(jcafb_cadastro_campanha_4, jcafb_cadastro_campanha_1_sheet)\n"
   ]
  },
  {
   "cell_type": "markdown",
   "id": "58ffa392-7825-4696-b40f-b432b0a20b84",
   "metadata": {},
   "source": [
    "## Lista de Atualizações"
   ]
  },
  {
   "cell_type": "code",
   "execution_count": 46,
   "id": "8d8757a8-7d58-4ef3-80eb-16c73d5a5c63",
   "metadata": {},
   "outputs": [
    {
     "data": {
      "text/html": [
       "<div>\n",
       "<style scoped>\n",
       "    .dataframe tbody tr th:only-of-type {\n",
       "        vertical-align: middle;\n",
       "    }\n",
       "\n",
       "    .dataframe tbody tr th {\n",
       "        vertical-align: top;\n",
       "    }\n",
       "\n",
       "    .dataframe thead th {\n",
       "        text-align: right;\n",
       "    }\n",
       "</style>\n",
       "<table border=\"1\" class=\"dataframe\">\n",
       "  <thead>\n",
       "    <tr style=\"text-align: right;\">\n",
       "      <th></th>\n",
       "      <th>id</th>\n",
       "      <th>name</th>\n",
       "      <th>code</th>\n",
       "      <th>column_name</th>\n",
       "      <th>from</th>\n",
       "      <th>to</th>\n",
       "      <th>source</th>\n",
       "      <th>source_row</th>\n",
       "    </tr>\n",
       "  </thead>\n",
       "  <tbody>\n",
       "  </tbody>\n",
       "</table>\n",
       "</div>"
      ],
      "text/plain": [
       "Empty DataFrame\n",
       "Columns: [id, name, code, column_name, from, to, source, source_row]\n",
       "Index: []"
      ]
     },
     "execution_count": 46,
     "metadata": {},
     "output_type": "execute_result"
    }
   ],
   "source": [
    "updt_records"
   ]
  },
  {
   "cell_type": "markdown",
   "id": "8209ffd9-4bda-46a5-9d29-68fd89a3426a",
   "metadata": {},
   "source": [
    "## Cadastro de Pacientes Atualizado"
   ]
  },
  {
   "cell_type": "code",
   "execution_count": 47,
   "id": "24f77651-ecfd-4922-bb8f-3f046f2f2f23",
   "metadata": {},
   "outputs": [
    {
     "name": "stdout",
     "output_type": "stream",
     "text": [
      "                                     id                            name  \\\n",
      "0    __import__.clv_patient_70905207815              Abel Lucas Bertoni   \n",
      "1    __import__.clv_patient_82625760800              Adalberto de Sousa   \n",
      "2    __import__.clv_patient_28019727892      Adelaide Francisco Machado   \n",
      "3    __import__.clv_patient_05852199826        Adelia Aparecida Fontana   \n",
      "4    __import__.clv_patient_04227049890          Ademar Antonio Dagoano   \n",
      "..                                  ...                             ...   \n",
      "847  __import__.clv_patient_09614270861      Zeni Maria de Souza Pivato   \n",
      "848  __import__.clv_patient_34700464844  Zenilce de Souza Lima da Silva   \n",
      "849  __import__.clv_patient_82586993853          Zetir Maria Souza Tosi   \n",
      "850  __import__.clv_patient_25732126880            Zilda Pereira Cruaia   \n",
      "851  __import__.clv_patient_04980187846           Zilda Teixeira Cintra   \n",
      "\n",
      "               code   birthday  gender        zip  \\\n",
      "0    709.052.078-15 1955-06-01    Male  16680-000   \n",
      "1    826.257.608-00 1955-12-12    Male  16680-000   \n",
      "2    280.197.278-92 1948-03-13    Male  16680-000   \n",
      "3    058.521.998-26 1964-08-29  Female  16680-000   \n",
      "4    042.270.498-90 1947-05-14    Male  16680-000   \n",
      "..              ...        ...     ...        ...   \n",
      "847  096.142.708-61 1946-12-14  Female  16680-000   \n",
      "848  347.004.648-44 1947-08-20  Female  16680-000   \n",
      "849  825.869.938-53 1949-11-18  Female  16680-000   \n",
      "850  257.321.268-80 1957-10-04  Female  16680-000   \n",
      "851  049.801.878-46 1956-07-30  Female  16680-000   \n",
      "\n",
      "                             street_name street_number street_number2  \\\n",
      "0             Rua Coronel Juvencio Silva           152           Casa   \n",
      "1          Rua Antonio Bernardo da Cunha           289           Casa   \n",
      "2            Rua Antonio Manoel da Silva            90         Fundos   \n",
      "3    Travessa Leonilda Coelho de Azevedo           165           Casa   \n",
      "4          Rua Antonio Bernardo da Cunha           185           Casa   \n",
      "..                                   ...           ...            ...   \n",
      "847            Rua Amaro Militao de Lima            14           Casa   \n",
      "848             Avenida Manoel Rodrigues           127   Casa Fundo A   \n",
      "849                  Rua Domingos Zulian           231           Casa   \n",
      "850              Rua Barao do Rio Branco           872                  \n",
      "851                  Rua Domingos Zulian           885           Casa   \n",
      "\n",
      "           street2  ...            phone       state employee_id/name  \\\n",
      "0           Centro  ...  (14) 99797-9199   Available                    \n",
      "1          Baixada  ...  (14) 99760-8415   Available                    \n",
      "2    Vila Oliveira  ...  (14) 99646-1380   Available                    \n",
      "3          Baixada  ...  (14) 99680-2908    Selected  Grupo 01 (2025)   \n",
      "4          Baixada  ...  (14) 99633-7404  Unselected                    \n",
      "..             ...  ...              ...         ...              ...   \n",
      "847         Cohabs  ...  (14) 99677-6199   Available                    \n",
      "848         Cohabs  ...  (14) 3287-7156    Available                    \n",
      "849         Centro  ...  (14) 99795-1532  Unselected                    \n",
      "850        Baixada  ...  (14) 99615-5860   Available                    \n",
      "851  Vila Oliveira  ...  (14) 99713-8852   Available                    \n",
      "\n",
      "    category_names DHC1 Anemia1 DHC2 Anemia2 new revised  \n",
      "0            Idoso                                        \n",
      "1            Idoso                                        \n",
      "2            Idoso                                        \n",
      "3            Idoso                                        \n",
      "4            Idoso                                        \n",
      "..             ...  ...     ...  ...     ...  ..     ...  \n",
      "847          Idoso                                        \n",
      "848          Idoso                                        \n",
      "849          Idoso                                        \n",
      "850          Idoso                                        \n",
      "851          Idoso                                        \n",
      "\n",
      "[852 rows x 26 columns]\n"
     ]
    }
   ],
   "source": [
    " print(jcafb_cadastro_pacientes_updt)"
   ]
  },
  {
   "cell_type": "markdown",
   "id": "5fff32dd-6257-4046-9483-1de4f76a7fef",
   "metadata": {},
   "source": [
    "# Exportar os arquivos"
   ]
  },
  {
   "cell_type": "markdown",
   "id": "9939707b-fca5-4192-a3cf-d97e4742afe8",
   "metadata": {},
   "source": [
    "## Exportar Lista de Códigos Inválidos"
   ]
  },
  {
   "cell_type": "code",
   "execution_count": 48,
   "id": "455890f2-7435-4d7c-8784-530d7943f0a0",
   "metadata": {},
   "outputs": [
    {
     "name": "stderr",
     "output_type": "stream",
     "text": [
      "INFO:__main__:--> invalid_codes: data/jcafb_2025_dhc2_invalid_codes.xlsx\n"
     ]
    }
   ],
   "source": [
    "invalid_codes.to_excel(invalid_codes_path, sheet_name=invalid_codes_sheet, index=False)\n",
    "_logger.info(u'%s %s %s', '-->', 'invalid_codes:', invalid_codes_path)"
   ]
  },
  {
   "cell_type": "markdown",
   "id": "088106b9-c676-471b-a0cd-429f37c25b66",
   "metadata": {},
   "source": [
    "## Exportar Lista de Ids incluídos"
   ]
  },
  {
   "cell_type": "code",
   "execution_count": 49,
   "id": "3d8bb6e5-c418-4f12-ac2e-40144cae56a7",
   "metadata": {},
   "outputs": [
    {
     "name": "stderr",
     "output_type": "stream",
     "text": [
      "INFO:__main__:--> new_records: data/jcafb_2025_dhc2_new_ids.xlsx\n"
     ]
    }
   ],
   "source": [
    "new_ids.to_excel(new_ids_path, sheet_name=new_ids_sheet, index=False)\n",
    "_logger.info(u'%s %s %s', '-->', 'new_records:', new_ids_path)"
   ]
  },
  {
   "cell_type": "markdown",
   "id": "692b6670-64a6-4e79-b1d2-13a94e1c25da",
   "metadata": {},
   "source": [
    "## Exportar a Lista de Registros incluídos"
   ]
  },
  {
   "cell_type": "code",
   "execution_count": 50,
   "id": "2b72a31e-df02-4916-8950-0864c2c8238b",
   "metadata": {},
   "outputs": [
    {
     "name": "stderr",
     "output_type": "stream",
     "text": [
      "INFO:__main__:--> new_records: data/jcafb_2025_dhc2_new_records.xlsx\n"
     ]
    }
   ],
   "source": [
    "new_records.to_excel(new_records_path, sheet_name=new_records_sheet, index=False)\n",
    "_logger.info(u'%s %s %s', '-->', 'new_records:', new_records_path)"
   ]
  },
  {
   "cell_type": "markdown",
   "id": "d6f33723-7805-4408-951c-d402101b7fb7",
   "metadata": {},
   "source": [
    "## Exportar a Lista de Atualizações"
   ]
  },
  {
   "cell_type": "code",
   "execution_count": 51,
   "id": "46fe244a-4a45-4140-82e5-004d9df50946",
   "metadata": {},
   "outputs": [
    {
     "name": "stderr",
     "output_type": "stream",
     "text": [
      "INFO:__main__:--> new_records: data/jcafb_2025_dhc2_updt_records.xlsx\n"
     ]
    }
   ],
   "source": [
    "updt_records.to_excel(updt_records_path, sheet_name=updt_records_sheet, index=False)\n",
    "_logger.info(u'%s %s %s', '-->', 'new_records:', updt_records_path)"
   ]
  },
  {
   "cell_type": "markdown",
   "id": "5c8e5501-1fd6-40db-b0ca-bb5e1646e0bb",
   "metadata": {},
   "source": [
    "## Exportar o Cadastro de Pacientes Atualizado"
   ]
  },
  {
   "cell_type": "code",
   "execution_count": 52,
   "id": "e845c37e-c7f8-49c2-91d0-72ab80b0f58c",
   "metadata": {},
   "outputs": [
    {
     "name": "stderr",
     "output_type": "stream",
     "text": [
      "INFO:__main__:--> jcafb_cadastro_pacientes_updt: data/jcafb_2025_cadastro_pacientes_dhc2_updt.xlsx\n",
      "INFO:__main__:--> jcafb_cadastro_pacientes_updt Columns: ['id', 'name', 'code', 'birthday', 'gender', 'zip', 'street_name', 'street_number', 'street_number2', 'street2', 'city_id/name', 'city_id/id', 'state_id/name', 'state_id/id', 'country_id/name', 'country_id/id', 'phone', 'state', 'employee_id/name', 'category_names', 'DHC1', 'Anemia1', 'DHC2', 'Anemia2', 'new', 'revised']\n",
      "INFO:__main__:--> jcafb_cadastro_pacientes_updt Number of rows: 852\n"
     ]
    }
   ],
   "source": [
    "jcafb_cadastro_pacientes_updt.to_excel(jcafb_cadastro_pacientes_updt_path,\n",
    "                                       sheet_name=jcafb_cadastro_pacientes_updt_sheet, index=False)\n",
    "_logger.info(u'%s %s %s', '-->', 'jcafb_cadastro_pacientes_updt:', jcafb_cadastro_pacientes_updt_path)\n",
    "_logger.info(u'%s %s %s', '-->', 'jcafb_cadastro_pacientes_updt Columns:', jcafb_cadastro_pacientes_updt.columns.tolist())\n",
    "_logger.info(u'%s %s %s', '-->', 'jcafb_cadastro_pacientes_updt Number of rows:', len(jcafb_cadastro_pacientes_updt))\n"
   ]
  },
  {
   "cell_type": "markdown",
   "id": "54acb307-7af3-4d46-aedf-d50168612558",
   "metadata": {},
   "source": [
    "## Importar \"*Patient Markers*\"\n",
    "\n",
    "1. Conectar-se, via *browser*, ao *Odoo* do servidor [clvheatlh-jcafb-2025n-aws-pro](https://34.224.24.169).\n",
    "\n",
    "1. Acessar a *View* *Global Tags*:\n",
    "    - Menu de acesso:\n",
    "        - **Health** » **Configuration** » **Patient** » **Markers**\n",
    "\n",
    "1. Executar a importação do arquivo \"**/opt/clvsol/clvhealth_jcafb_2025_15/project/data/jcafb_2025_clv_patient_marker.xlsx**\":\n",
    "\n",
    "    - Menu de acesso:\n",
    "        - **Favoritos** » **Importar registros**\n",
    "\n",
    "    1. Utilizar o botão **Upload File**.\n",
    "\n",
    "    1. Selecionar o arquivo \"**/opt/clvsol/clvhealth_jcafb_2025_15/project/data/jcafb_2025_clv_patient_marker.xlsx**\".\n",
    "\n",
    "    1. Utilize o botão **Importar** para executar a Ação.\n",
    "\n"
   ]
  },
  {
   "cell_type": "code",
   "execution_count": 53,
   "id": "24252028-d45d-42c2-9295-f395cede0694",
   "metadata": {},
   "outputs": [
    {
     "name": "stderr",
     "output_type": "stream",
     "text": [
      "INFO:__main__:--> clv_patient_marker Columns: ['id', 'name', 'description']\n",
      "INFO:__main__:--> clv_patient_marker Number of rows: 4\n"
     ]
    },
    {
     "data": {
      "text/html": [
       "<div>\n",
       "<style scoped>\n",
       "    .dataframe tbody tr th:only-of-type {\n",
       "        vertical-align: middle;\n",
       "    }\n",
       "\n",
       "    .dataframe tbody tr th {\n",
       "        vertical-align: top;\n",
       "    }\n",
       "\n",
       "    .dataframe thead th {\n",
       "        text-align: right;\n",
       "    }\n",
       "</style>\n",
       "<table border=\"1\" class=\"dataframe\">\n",
       "  <thead>\n",
       "    <tr style=\"text-align: right;\">\n",
       "      <th></th>\n",
       "      <th>id</th>\n",
       "      <th>name</th>\n",
       "      <th>description</th>\n",
       "    </tr>\n",
       "  </thead>\n",
       "  <tbody>\n",
       "    <tr>\n",
       "      <th>0</th>\n",
       "      <td>__import__.clv_patient_marker_DHC1</td>\n",
       "      <td>DHC1</td>\n",
       "      <td>Campanha DHC 1</td>\n",
       "    </tr>\n",
       "    <tr>\n",
       "      <th>1</th>\n",
       "      <td>__import__.clv_patient_marker_Anemia1</td>\n",
       "      <td>Anemia1</td>\n",
       "      <td>Campanha Anemia 1</td>\n",
       "    </tr>\n",
       "    <tr>\n",
       "      <th>2</th>\n",
       "      <td>__import__.clv_patient_marker_DHC2</td>\n",
       "      <td>DHC2</td>\n",
       "      <td>Campanha DHC 2</td>\n",
       "    </tr>\n",
       "    <tr>\n",
       "      <th>3</th>\n",
       "      <td>__import__.clv_patient_marker_Anemia2</td>\n",
       "      <td>Anemia2</td>\n",
       "      <td>Campanha Anemia 2</td>\n",
       "    </tr>\n",
       "  </tbody>\n",
       "</table>\n",
       "</div>"
      ],
      "text/plain": [
       "                                      id     name        description\n",
       "0     __import__.clv_patient_marker_DHC1     DHC1     Campanha DHC 1\n",
       "1  __import__.clv_patient_marker_Anemia1  Anemia1  Campanha Anemia 1\n",
       "2     __import__.clv_patient_marker_DHC2     DHC2     Campanha DHC 2\n",
       "3  __import__.clv_patient_marker_Anemia2  Anemia2  Campanha Anemia 2"
      ]
     },
     "execution_count": 53,
     "metadata": {},
     "output_type": "execute_result"
    }
   ],
   "source": [
    "clv_patient_marker_path = 'data/jcafb_2025_clv_patient_marker.xlsx'\n",
    "clv_patient_marker_sheet = 'clv_patient_marker'\n",
    "\n",
    "xls_clv_patient_marker = pd.ExcelFile(clv_patient_marker_path)\n",
    "clv_patient_marker = pd.read_excel(xls_clv_patient_marker, sheet_name=clv_patient_marker_sheet, na_filter=False)\n",
    "\n",
    "_logger.info(u'%s %s %s', '-->', 'clv_patient_marker Columns:', clv_patient_marker.columns.tolist())\n",
    "_logger.info(u'%s %s %s', '-->', 'clv_patient_marker Number of rows:', len(clv_patient_marker))\n",
    "\n",
    "clv_patient_marker"
   ]
  },
  {
   "cell_type": "markdown",
   "id": "5fa54342-2090-4682-a4cc-1a1b6a3caa43",
   "metadata": {},
   "source": [
    "## Recarregar o Cadastro de Pacientes Atualizado"
   ]
  },
  {
   "cell_type": "code",
   "execution_count": 54,
   "id": "0333a61d-62ce-49a8-857b-2c890ade81d0",
   "metadata": {},
   "outputs": [
    {
     "name": "stderr",
     "output_type": "stream",
     "text": [
      "INFO:__main__:--> jcafb_cadastro_pacientes_updt Columns: ['id', 'name', 'code', 'birthday', 'gender', 'zip', 'street_name', 'street_number', 'street_number2', 'street2', 'city_id/name', 'city_id/id', 'state_id/name', 'state_id/id', 'country_id/name', 'country_id/id', 'phone', 'state', 'employee_id/name', 'category_names', 'DHC1', 'Anemia1', 'DHC2', 'Anemia2', 'new', 'revised']\n",
      "INFO:__main__:--> jcafb_cadastro_pacientes_updt Number of rows: 852\n"
     ]
    }
   ],
   "source": [
    "xls_jcafb_cadastro_pacientes_updt = pd.ExcelFile(jcafb_cadastro_pacientes_updt_path)\n",
    "jcafb_cadastro_pacientes_updt = pd.read_excel(xls_jcafb_cadastro_pacientes_updt,\n",
    "                                              sheet_name=jcafb_cadastro_pacientes_updt_sheet,\n",
    "                                              na_filter=False)\n",
    "\n",
    "_logger.info(u'%s %s %s', '-->', 'jcafb_cadastro_pacientes_updt Columns:', jcafb_cadastro_pacientes_updt.columns.tolist())\n",
    "_logger.info(u'%s %s %s', '-->', 'jcafb_cadastro_pacientes_updt Number of rows:', len(jcafb_cadastro_pacientes_updt))\n"
   ]
  },
  {
   "cell_type": "markdown",
   "id": "806dbfcc-8530-4fc5-bdb8-124aff304e76",
   "metadata": {},
   "source": [
    "## Exportar o Cadastro de Pacientes para importação pelo Odoo"
   ]
  },
  {
   "cell_type": "code",
   "execution_count": 55,
   "id": "cf0eb695-f423-467a-8940-931a06ec9572",
   "metadata": {},
   "outputs": [
    {
     "name": "stderr",
     "output_type": "stream",
     "text": [
      "INFO:__main__:--> jcafb_cadastro_pacientes_odoo: data//jcafb_2025_cadastro_pacientes_dhc2_odoo.xlsx\n",
      "INFO:__main__:--> jcafb_cadastro_pacientes_odoo Columns: ['id', 'name', 'code', 'birthday', 'gender', 'zip', 'street_name', 'street_number', 'street_number2', 'street2', 'city_id/id', 'state_id/id', 'country_id/id', 'phone', 'notes', 'marker_ids/id']\n",
      "INFO:__main__:--> jcafb_cadastro_pacientes_odoo Number of rows: 0\n"
     ]
    }
   ],
   "source": [
    "# jcafb_cadastro_odoo_path = 'data/jcafb_cadastro_odoo.xlsx'\n",
    "# jcafb_cadastro_odoo_sheet = 'Sheet1'\n",
    "jcafb_cadastro_pacientes_odoo_path = 'data//jcafb_2025_cadastro_pacientes_dhc2_odoo.xlsx'\n",
    "jcafb_cadastro_pacientes_odoo_sheet = 'cadastro_pacientes_dhc2_odoo'\n",
    "\n",
    "# column_names = ['id', 'name', 'code', 'birthday', 'gender',\n",
    "#                 'zip', 'street_name', 'street_number', 'street_number2', 'street2',\n",
    "#                 'city_id/name', 'city_id/id', 'state_id/name', 'state_id/id', 'country_id/name', 'country_id/id',\n",
    "#                 'phone',\n",
    "#                 'state', 'employee_id/name', 'category_names',\n",
    "#                 'marker_ids/id,\n",
    "#                 'DHC2', 'Anemia1', 'DHC2', 'Anemia2',\n",
    "#                 'new', 'revised']\n",
    "column_names = ['id', 'name', 'code', 'birthday', 'gender',\n",
    "                'zip', 'street_name', 'street_number', 'street_number2', 'street2',\n",
    "                'city_id/id', 'state_id/id', 'country_id/id',\n",
    "                'phone',\n",
    "                'notes', 'marker_ids/id']\n",
    "\n",
    "jcafb_cadastro_pacientes_odoo = pd.DataFrame(columns=column_names)\n",
    "\n",
    "for i, row in jcafb_cadastro_pacientes_updt.iterrows():\n",
    "\n",
    "    phase_id = 'JCAFB-2025'\n",
    "\n",
    "    marker_ids = ''\n",
    "    if row['DHC1'] == 'x':\n",
    "        if marker_ids == '':\n",
    "            marker_ids = '__import__.clv_patient_marker_DHC1'\n",
    "        else:\n",
    "            marker_ids = marker_ids +  ',__import__.clv_patient_marker_DHC1'\n",
    "    if row['Anemia1'] == 'x':\n",
    "        if marker_ids == '':\n",
    "            marker_ids = '__import__.clv_patient_marker_Anemia1'\n",
    "        else:\n",
    "            marker_ids = marker_ids +  ',__import__.clv_patient_marker_Anemia1'\n",
    "    if row['DHC2'] == 'x':\n",
    "        if marker_ids == '':\n",
    "            marker_ids = '__import__.clv_patient_marker_DHC2'\n",
    "        else:\n",
    "            marker_ids = marker_ids +  ',__import__.clv_patient_marker_DHC2'\n",
    "    if row['Anemia2'] == 'x':\n",
    "        if marker_ids == '':\n",
    "            marker_ids = '__import__.clv_patient_marker_Anemia2'\n",
    "        else:\n",
    "            marker_ids = marker_ids +  ',__import__.clv_patient_marker_Anemia2'\n",
    "\n",
    "    if row['new'] == 'x' or row['revised'] == 'x':\n",
    "        new_row = {'id': row['id'],\n",
    "                   'name': row['name'],\n",
    "                   'code': row['code'],\n",
    "                   'birthday': row['birthday'],\n",
    "                   'gender': row['gender'],\n",
    "                   'zip': row['zip'],\n",
    "                   'street_name': row['street_name'],\n",
    "                   'street_number': row['street_number'],\n",
    "                   'street_number2': row['street_number2'],\n",
    "                   'street2': row['street2'],\n",
    "                   'city_id/id': row['city_id/id'],\n",
    "                   'state_id/id': row['state_id/id'],\n",
    "                   'country_id/id': row['country_id/id'],\n",
    "                   'phone': row['phone'],\n",
    "                   'phase_id': phase_id,\n",
    "                   'marker_ids/id': marker_ids\n",
    "                  }\n",
    "        jcafb_cadastro_pacientes_odoo.loc[len(jcafb_cadastro_pacientes_odoo)] = new_row\n",
    "\n",
    "jcafb_cadastro_pacientes_odoo.to_excel(jcafb_cadastro_pacientes_odoo_path,\n",
    "                                       sheet_name=jcafb_cadastro_pacientes_odoo_sheet,\n",
    "                                       index=False)\n",
    "\n",
    "_logger.info(u'%s %s %s', '-->', 'jcafb_cadastro_pacientes_odoo:', jcafb_cadastro_pacientes_odoo_path)\n",
    "_logger.info(u'%s %s %s', '-->', 'jcafb_cadastro_pacientes_odoo Columns:', jcafb_cadastro_pacientes_odoo.columns.tolist())\n",
    "_logger.info(u'%s %s %s', '-->', 'jcafb_cadastro_pacientes_odoo Number of rows:', len(jcafb_cadastro_pacientes_odoo))\n"
   ]
  },
  {
   "cell_type": "markdown",
   "id": "fa0c9dc9-5c30-427a-bf13-42a6aa90e075",
   "metadata": {},
   "source": [
    "# Importar o Cadastro de Pacientes atualizado de Avaí\n",
    "\n",
    "**Nota**:  <span style='color:green '> Repetir duas vezes o procedimento (confirmar) </span>\n",
    "\n",
    "1. Conectar-se, via *browser*, ao *Odoo* do servidor [clvheatlh-jcafb-2025n-aws-pro](https://34.224.24.169).\n",
    "\n",
    "1. Acessar a *View* *Patients*:\n",
    "    - Menu de acesso:\n",
    "        - **Health** » **Health** » **Patient** » **Patients**\n",
    "\n",
    "1. Executar a importação do arquivo \"**/opt/clvsol/clvhealth_jcafb_2025_15/project/data/jcafb_2025_cadastro_pacientes_dhc2_odoo.xlsx**\":\n",
    "\n",
    "    - Menu de acesso:\n",
    "        - **Favoritos** » **Importar registros**\n",
    "\n",
    "    1. Utilizar o botão **Upload File**.\n",
    "\n",
    "    1. Selecionar o arquivo \"**/opt/clvsol/clvhealth_jcafb_2025_15/project/data/jcafb_2025_cadastro_pacientes_dhc2_odoo.xlsx**\".\n",
    "\n",
    "    1. Utilize o botão **Importar** para executar a Ação.\n",
    "\n"
   ]
  },
  {
   "cell_type": "code",
   "execution_count": null,
   "id": "d8fc02f3-8928-4fc3-aae9-973b2cdd78bf",
   "metadata": {},
   "outputs": [],
   "source": []
  }
 ],
 "metadata": {
  "kernelspec": {
   "display_name": "Python 3 (ipykernel)",
   "language": "python",
   "name": "python3"
  },
  "language_info": {
   "codemirror_mode": {
    "name": "ipython",
    "version": 3
   },
   "file_extension": ".py",
   "mimetype": "text/x-python",
   "name": "python",
   "nbconvert_exporter": "python",
   "pygments_lexer": "ipython3",
   "version": "3.12.2"
  }
 },
 "nbformat": 4,
 "nbformat_minor": 5
}
