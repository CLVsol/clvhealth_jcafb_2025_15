{
 "cells": [
  {
   "cell_type": "markdown",
   "id": "6f2bde6e-1c33-42a5-9f9b-5b1fbe6b8e8e",
   "metadata": {},
   "source": [
    "# <center>JCAFB-2025 - Cadastro de Pacientes Off-Line<center>"
   ]
  },
  {
   "cell_type": "markdown",
   "id": "ac7dad70-f29c-4b48-99bb-b94239905bee",
   "metadata": {
    "jp-MarkdownHeadingCollapsed": true
   },
   "source": [
    "## Exportar a lista de todos os Pacientes cadastrados (Referência)\n",
    "\n",
    "1. Conectar-se, via *browser*, ao *Odoo* do servidor [clvheatlh-jcafb-2025n-aws-pro](https://34.224.24.169).\n",
    "\n",
    "1. Acessar a *View* *Patients*:\n",
    "    - Menu de acesso:\n",
    "        - **Health** » **Health** » **Patient** » **Patients**\n",
    "\n",
    "1. Selecionar todos os Pacientes.\n",
    "\n",
    "1. Executar a Ação \"**Exportar**\" (**843**):\n",
    "    - Parâmetros utilizados:\n",
    "        - *Quero atualizar os dados (compatibilidade com importação e exportação)*: \"**marcado**\"\n",
    "        - *Campos para exportar*: » *Modelo*: \"**JCAFB-2025 - Cadastro de Pacientes (Ref)**\"\n",
    "    1. Utilize o botão **Exportar** para executar a Ação.\n"
   ]
  },
  {
   "cell_type": "markdown",
   "id": "c4b93475-df43-4b88-a80c-ada18b6ab66a",
   "metadata": {},
   "source": [
    "## Parâmetros globais"
   ]
  },
  {
   "cell_type": "code",
   "execution_count": 1,
   "id": "2f23ffb6-7ece-4643-81db-7e7a51a3fdbb",
   "metadata": {},
   "outputs": [],
   "source": [
    "import pandas as pd"
   ]
  },
  {
   "cell_type": "code",
   "execution_count": 2,
   "id": "6ea72590-947a-45cb-8c4b-37eecc8ebe2a",
   "metadata": {},
   "outputs": [],
   "source": [
    "import logging\n",
    "\n",
    "logging.basicConfig(level=logging.DEBUG)\n",
    "_logger = logging.getLogger(__name__)\n"
   ]
  },
  {
   "cell_type": "markdown",
   "id": "787f4b27-21ea-4c13-885b-49d8f1bf4101",
   "metadata": {},
   "source": [
    "## Leitura do Cadastro de Referência"
   ]
  },
  {
   "cell_type": "code",
   "execution_count": 3,
   "id": "f3ed28a4-12c1-4682-8252-3ccb6db7b07a",
   "metadata": {},
   "outputs": [
    {
     "name": "stderr",
     "output_type": "stream",
     "text": [
      "INFO:__main__:--> jcafb_cadastro_pacientes_ref Columns: ['id', 'name', 'code', 'birthday', 'gender', 'phase_id', 'zip', 'street_name', 'street_number', 'street_number2', 'street2', 'city_id', 'city_id/id', 'state_id', 'state_id/id', 'country_id/name', 'country_id/id', 'phone', 'state', 'reg_state', 'employee_id/name', 'employee_id/id', 'category_names', 'category_ids/id', 'marker_names', 'marker_ids/id', 'tag_names', 'tag_ids/id', 'verification_state', 'verification_outcome_infos']\n",
      "INFO:__main__:--> jcafb_cadastro_pacientes_ref Number of rows: 843\n"
     ]
    }
   ],
   "source": [
    "jcafb_cadastro_pacientes_ref_path = 'data/JCAFB-2025 - Cadastro de Pacientes (Ref).xlsx'\n",
    "jcafb_cadastro_pacientes_ref_sheet = 'Sheet1'\n",
    "\n",
    "xls_jcafb_cadastro_pacientes_ref = pd.ExcelFile(jcafb_cadastro_pacientes_ref_path)\n",
    "# jcafb_cadastro_pacientes_ref = pd.read_excel(xls_in, sheet_name=jcafb_cadastro_pacientes_ref_sheet, index_col=0, na_filter=False)\n",
    "jcafb_cadastro_pacientes_ref = pd.read_excel(xls_jcafb_cadastro_pacientes_ref, sheet_name=jcafb_cadastro_pacientes_ref_sheet, na_filter=False)\n",
    "\n",
    "_logger.info(u'%s %s %s', '-->', 'jcafb_cadastro_pacientes_ref Columns:', jcafb_cadastro_pacientes_ref.columns.tolist())\n",
    "_logger.info(u'%s %s %s', '-->', 'jcafb_cadastro_pacientes_ref Number of rows:', len(jcafb_cadastro_pacientes_ref))\n"
   ]
  },
  {
   "cell_type": "markdown",
   "id": "f0f4f369-4f03-41f8-82c7-4e92cdad3a91",
   "metadata": {},
   "source": [
    "## Leitura do Cadastro de Campanha 1"
   ]
  },
  {
   "cell_type": "code",
   "execution_count": 4,
   "id": "58c9ed5b-4f99-4c96-9711-abf6625c3f64",
   "metadata": {},
   "outputs": [
    {
     "name": "stderr",
     "output_type": "stream",
     "text": [
      "INFO:__main__:--> jcafb_cadastro_campanha_1 Columns: ['id', 'name', 'code', 'birthday', 'gender', 'phase_id', 'zip', 'street_name', 'street_number', 'street_number2', 'street2', 'city_id/id', 'state_id/id', 'country_id/id', 'phone', 'employee_id/id', 'category_ids/id', 'marker_ids/id', 'tag_ids/id']\n",
      "INFO:__main__:--> jcafb_cadastro_campanha_1 Number of rows: 844\n"
     ]
    }
   ],
   "source": [
    "jcafb_cadastro_campanha_1_path = 'data/JCAFB-2025 - Cadastro de Pacientes - Campanhas 1.xlsx'\n",
    "jcafb_cadastro_campanha_1_sheet = 'Sheet1'\n",
    "\n",
    "xls_jcafb_cadastro_campanha_1 = pd.ExcelFile(jcafb_cadastro_campanha_1_path)\n",
    "# jcafb_cadastro_pacientes_ref = pd.read_excel(xls_in, sheet_name=jcafb_cadastro_pacientes_ref_sheet, index_col=0, na_filter=False)\n",
    "jcafb_cadastro_campanha_1 = pd.read_excel(xls_jcafb_cadastro_campanha_1, sheet_name=jcafb_cadastro_campanha_1_sheet, na_filter=False)\n",
    "\n",
    "_logger.info(u'%s %s %s', '-->', 'jcafb_cadastro_campanha_1 Columns:', jcafb_cadastro_campanha_1.columns.tolist())\n",
    "_logger.info(u'%s %s %s', '-->', 'jcafb_cadastro_campanha_1 Number of rows:', len(jcafb_cadastro_campanha_1))\n"
   ]
  },
  {
   "cell_type": "markdown",
   "id": "fa0c9dc9-5c30-427a-bf13-42a6aa90e075",
   "metadata": {},
   "source": [
    "## Importar o Cadastro de Pacientes atualizado de Avaí\n",
    "\n",
    "**Nota**:  <span style='color:green '> Repetir duas vezes o procedimento (confirmar) </span>\n",
    "\n",
    "1. Conectar-se, via *browser*, ao *Odoo* do servidor [clvheatlh-jcafb-2025n-aws-pro](https://34.224.24.169).\n",
    "\n",
    "1. Acessar a *View* *Patients*:\n",
    "    - Menu de acesso:\n",
    "        - **Health** » **Health** » **Patient** » **Patients**\n",
    "\n",
    "1. Executar a importação do arquivo \"**/opt/clvsol/clvhealth_jcafb_2025_15/project/data/JCAFB-2025 - Cadastro de Pacientes - Campanhas 1.xlsx**\":\n",
    "\n",
    "    - Menu de acesso:\n",
    "        - **Favoritos** » **Importar registros**\n",
    "\n",
    "    1. Utilizar o botão **Upload File**.\n",
    "\n",
    "    1. Selecionar o arquivo \"**/opt/clvsol/clvhealth_jcafb_2025_15/project/data/JCAFB-2025 - Cadastro de Pacientes - Campanhas 1.xlsx**\".\n",
    "\n",
    "    1. Utilize o botão **Importar** para executar a Ação.\n",
    "\n"
   ]
  },
  {
   "cell_type": "code",
   "execution_count": null,
   "id": "d8fc02f3-8928-4fc3-aae9-973b2cdd78bf",
   "metadata": {},
   "outputs": [],
   "source": []
  }
 ],
 "metadata": {
  "kernelspec": {
   "display_name": "Python 3 (ipykernel)",
   "language": "python",
   "name": "python3"
  },
  "language_info": {
   "codemirror_mode": {
    "name": "ipython",
    "version": 3
   },
   "file_extension": ".py",
   "mimetype": "text/x-python",
   "name": "python",
   "nbconvert_exporter": "python",
   "pygments_lexer": "ipython3",
   "version": "3.12.2"
  }
 },
 "nbformat": 4,
 "nbformat_minor": 5
}
