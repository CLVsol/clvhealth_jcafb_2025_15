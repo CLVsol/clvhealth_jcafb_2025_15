{
 "cells": [
  {
   "cell_type": "markdown",
   "id": "678e4bc0-2b26-40fb-b7d4-6655dbc073a1",
   "metadata": {},
   "source": [
    "# Importação dos dados do Banco de Dados \"clvhealth_jcafb_2025_15\""
   ]
  },
  {
   "cell_type": "markdown",
   "id": "5443b206-d73c-4df7-a900-2ae88e5bb1bb",
   "metadata": {},
   "source": [
    "## Leitura das Credenciais"
   ]
  },
  {
   "cell_type": "code",
   "execution_count": 1,
   "id": "9ff527b2-943f-4847-9e3e-ee845e77f8d9",
   "metadata": {},
   "outputs": [],
   "source": [
    "import pandas as pd\n",
    "\n",
    "hosts = pd.read_csv('data/host.csv', delimiter=';', index_col='name')\n",
    "def creds(index, col_name):\n",
    "    return hosts.at[index, col_name]\n",
    "\n",
    "# creds = lambda index, col_name : hosts.at[index, col_name]\n",
    "\n",
    "# print(hosts)"
   ]
  },
  {
   "cell_type": "markdown",
   "id": "03e03631-7a61-4dc8-aa3d-ad9d81732cbf",
   "metadata": {},
   "source": [
    "## Parâmetros globais"
   ]
  },
  {
   "cell_type": "code",
   "execution_count": 2,
   "id": "fa0af243-a136-45c8-87f4-5b70ff30a561",
   "metadata": {},
   "outputs": [],
   "source": [
    "import logging\n",
    "# import ssl\n",
    "import sqlite3\n",
    "\n",
    "logging.basicConfig(level=logging.DEBUG)\n",
    "_logger = logging.getLogger(__name__)\n",
    "\n",
    "# ssl._create_default_https_context = ssl._create_unverified_context\n",
    "# ctx = ssl.create_default_context()\n",
    "# ctx.check_hostname = False\n",
    "# ctx.verify_mode = ssl.CERT_NONE\n"
   ]
  },
  {
   "cell_type": "code",
   "execution_count": 3,
   "id": "115bb668-0d18-44e8-9841-fc85448afb04",
   "metadata": {},
   "outputs": [],
   "source": [
    "from xmlrpc import client\n",
    "\n",
    "host_name = 'tkl-odoo15-jcafb25-vm'\n",
    "# host_name = 'tkl-odoo16-vm-18'\n",
    "\n",
    "server_url = creds(host_name, 'server')\n",
    "db_name = creds(host_name, 'dbname')\n",
    "username = creds(host_name, 'user')\n",
    "password = creds(host_name, 'user_pw')\n",
    "# password = creds(host_name, 'user_apikey')\n"
   ]
  },
  {
   "cell_type": "code",
   "execution_count": 4,
   "id": "2f46dece-04fd-4e0a-a681-a6062ba25492",
   "metadata": {},
   "outputs": [],
   "source": [
    "from clvsol_odoo15_lib import *"
   ]
  },
  {
   "cell_type": "markdown",
   "id": "2ccf842b-dbad-40f9-a9f1-dfb412d067c0",
   "metadata": {},
   "source": [
    "## Importação dos dados de \"res.country\""
   ]
  },
  {
   "cell_type": "code",
   "execution_count": 5,
   "id": "956e7f4d-249d-46de-9fad-c37d23ee6977",
   "metadata": {},
   "outputs": [
    {
     "name": "stderr",
     "output_type": "stream",
     "text": [
      "INFO:clvsol_odoo15_lib.res_country:--> get_sqlite http://192.168.25.210:8069 clvhealth_jcafb_2025_15\n"
     ]
    }
   ],
   "source": [
    "res_country = res_country.get_sqlite(server_url, db_name, username, password, initialize=False)\n"
   ]
  },
  {
   "cell_type": "markdown",
   "id": "929ce158-f8a3-44dd-999c-aefff8489ea1",
   "metadata": {},
   "source": [
    "## Importação dos dados de \"res.partner\""
   ]
  },
  {
   "cell_type": "code",
   "execution_count": 6,
   "id": "3c09cb26-3cef-452c-87e5-dc4048d82a21",
   "metadata": {},
   "outputs": [
    {
     "name": "stderr",
     "output_type": "stream",
     "text": [
      "INFO:clvsol_odoo15_lib.res_partner:--> get_sqlite http://192.168.25.210:8069 clvhealth_jcafb_2025_15\n"
     ]
    }
   ],
   "source": [
    "res_partner = res_partner.get_sqlite(server_url, db_name, username, password, initialize=False)\n"
   ]
  },
  {
   "cell_type": "markdown",
   "id": "0414e741-bcce-4c5b-a454-a7a9c9878494",
   "metadata": {},
   "source": [
    "## Importação dos dados de \"res.company\""
   ]
  },
  {
   "cell_type": "code",
   "execution_count": 7,
   "id": "06ebbc24-1be3-435d-9179-6f760fa1823f",
   "metadata": {},
   "outputs": [
    {
     "name": "stderr",
     "output_type": "stream",
     "text": [
      "INFO:clvsol_odoo15_lib.res_company:--> get_sqlite http://192.168.25.210:8069 clvhealth_jcafb_2025_15\n"
     ]
    }
   ],
   "source": [
    "res_company = res_company.get_sqlite(server_url, db_name, username, password, initialize=False)\n"
   ]
  },
  {
   "cell_type": "markdown",
   "id": "829b93c8-028f-4043-b6ac-f8731cf68d17",
   "metadata": {},
   "source": [
    "## Importação dos dados de \"res.users\""
   ]
  },
  {
   "cell_type": "code",
   "execution_count": 8,
   "id": "b43ebfe2-f885-4542-822b-e90a7d438289",
   "metadata": {},
   "outputs": [
    {
     "name": "stderr",
     "output_type": "stream",
     "text": [
      "INFO:clvsol_odoo15_lib.res_users:--> get_sqlite http://192.168.25.210:8069 clvhealth_jcafb_2025_15\n"
     ]
    }
   ],
   "source": [
    "res_users = res_users.get_sqlite(server_url, db_name, username, password, initialize=False)\n"
   ]
  },
  {
   "cell_type": "markdown",
   "id": "0a80b8d0-296d-43cb-a71c-f91b7fa59164",
   "metadata": {},
   "source": [
    "## Importação dos dados de \"clv_phase\""
   ]
  },
  {
   "cell_type": "code",
   "execution_count": 9,
   "id": "670e4da4-d250-483f-9d34-6af89e055835",
   "metadata": {},
   "outputs": [
    {
     "name": "stderr",
     "output_type": "stream",
     "text": [
      "INFO:clvsol_odoo15_lib.clv_phase:--> get_sqlite http://192.168.25.210:8069 clvhealth_jcafb_2025_15\n"
     ]
    }
   ],
   "source": [
    "clv_phase = clv_phase.get_sqlite(server_url, db_name, username, password, initialize=False)\n"
   ]
  },
  {
   "cell_type": "markdown",
   "id": "ac5a9276-a844-48e4-a533-22e082fadd2e",
   "metadata": {},
   "source": [
    "## Importação dos dados de \"clv_global_tag\""
   ]
  },
  {
   "cell_type": "code",
   "execution_count": 10,
   "id": "577850c5-f7c1-49c8-8a68-9b682f751b35",
   "metadata": {},
   "outputs": [
    {
     "name": "stderr",
     "output_type": "stream",
     "text": [
      "INFO:clvsol_odoo15_lib.clv_global_tag:--> get_sqlite http://192.168.25.210:8069 clvhealth_jcafb_2025_15\n"
     ]
    }
   ],
   "source": [
    "clv_global_tag = clv_global_tag.get_sqlite(server_url, db_name, username, password, initialize=False)"
   ]
  },
  {
   "cell_type": "markdown",
   "id": "6e8067fc-1fe7-45d3-a7c9-9045efbdf464",
   "metadata": {},
   "source": [
    "## Importação dos dados de \"clv.partner_entity.street_pattern\""
   ]
  },
  {
   "cell_type": "code",
   "execution_count": 11,
   "id": "fa676d90-ec18-4f4f-9a01-2cbc2f24bda3",
   "metadata": {},
   "outputs": [
    {
     "name": "stderr",
     "output_type": "stream",
     "text": [
      "INFO:clvsol_odoo15_lib.clv_partner_entity_street_pattern:--> get_sqlite http://192.168.25.210:8069 clvhealth_jcafb_2025_15\n"
     ]
    }
   ],
   "source": [
    "clv_partner_entity_street_pattern = clv_partner_entity_street_pattern.get_sqlite(server_url, db_name, username, password, initialize=False)\n"
   ]
  },
  {
   "cell_type": "markdown",
   "id": "ca065ec9-2dd2-435d-bee0-bc8d7ea0e314",
   "metadata": {},
   "source": [
    "## Importação dos dados de \"clv.partner_entity.contact_information_pattern\""
   ]
  },
  {
   "cell_type": "code",
   "execution_count": 12,
   "id": "082d3e9f-ae5a-4f45-a5b3-c3a43e25224d",
   "metadata": {},
   "outputs": [
    {
     "name": "stderr",
     "output_type": "stream",
     "text": [
      "INFO:clvsol_odoo15_lib.clv_partner_entity_contact_information_pattern:--> get_sqlite http://192.168.25.210:8069 clvhealth_jcafb_2025_15\n"
     ]
    }
   ],
   "source": [
    "clv_partner_entity_contact_information_pattern = \\\n",
    "    clv_partner_entity_contact_information_pattern.get_sqlite(server_url, db_name, username, password, initialize=False)\n"
   ]
  },
  {
   "cell_type": "markdown",
   "id": "4a9fa4ae-3fb4-492b-bb8d-2e34c9654d76",
   "metadata": {},
   "source": [
    "## Importação dos dados de \"clv_patient_category\""
   ]
  },
  {
   "cell_type": "code",
   "execution_count": 13,
   "id": "9045ae5a-db27-43ec-8c0a-7df01ea3cce2",
   "metadata": {},
   "outputs": [
    {
     "name": "stderr",
     "output_type": "stream",
     "text": [
      "INFO:clvsol_odoo15_lib.clv_patient_category:--> get_sqlite http://192.168.25.210:8069 clvhealth_jcafb_2025_15\n"
     ]
    }
   ],
   "source": [
    "clv_patient_category = clv_patient_category.get_sqlite(server_url, db_name, username, password, initialize=False)\n"
   ]
  },
  {
   "cell_type": "markdown",
   "id": "2db317db-8007-4ad6-abed-29383022da64",
   "metadata": {},
   "source": [
    "## Importação dos dados de \"clv_patient_marker\""
   ]
  },
  {
   "cell_type": "code",
   "execution_count": 14,
   "id": "b5226466-e2b4-4994-9283-26fe82e0d46e",
   "metadata": {},
   "outputs": [
    {
     "name": "stderr",
     "output_type": "stream",
     "text": [
      "INFO:clvsol_odoo15_lib.clv_patient_marker:--> get_sqlite http://192.168.25.210:8069 clvhealth_jcafb_2025_15\n"
     ]
    }
   ],
   "source": [
    "clv_patient_marker = clv_patient_marker.get_sqlite(server_url, db_name, username, password, initialize=False)\n"
   ]
  },
  {
   "cell_type": "markdown",
   "id": "fccb2400-914d-4c21-8ad3-3c32f2e45ba3",
   "metadata": {},
   "source": [
    "## Importação dos dados de \"clv_patient_tag\""
   ]
  },
  {
   "cell_type": "code",
   "execution_count": 15,
   "id": "66739ac1-4125-4f2f-9234-3d2f9c6920b6",
   "metadata": {},
   "outputs": [
    {
     "name": "stderr",
     "output_type": "stream",
     "text": [
      "INFO:clvsol_odoo15_lib.clv_patient_tag:--> get_sqlite http://192.168.25.210:8069 clvhealth_jcafb_2025_15\n"
     ]
    }
   ],
   "source": [
    "clv_patient_tag = clv_patient_tag.get_sqlite(server_url, db_name, username, password, initialize=False)\n",
    "\n",
    "# print(patient_tags)\n"
   ]
  },
  {
   "cell_type": "markdown",
   "id": "cba27707-3881-420f-8771-2e1bf55b2834",
   "metadata": {},
   "source": [
    "## Importação dos dados de \"clv_patient\""
   ]
  },
  {
   "cell_type": "code",
   "execution_count": 16,
   "id": "38fa346d-7b84-4d85-a730-32aa13f0dc06",
   "metadata": {},
   "outputs": [
    {
     "name": "stderr",
     "output_type": "stream",
     "text": [
      "INFO:clvsol_odoo15_lib.clv_patient:--> get_sqlite http://192.168.25.210:8069 clvhealth_jcafb_2025_15\n"
     ]
    }
   ],
   "source": [
    "clv_patient = clv_patient.get_sqlite(server_url, db_name, username, password,\n",
    "                                  clv_patient_category,\n",
    "                                  clv_patient_marker,\n",
    "                                  clv_patient_tag,\n",
    "                                  initialize=False)\n"
   ]
  },
  {
   "cell_type": "code",
   "execution_count": null,
   "id": "db3fd40e-6ee6-4244-8b83-0631df44fb9c",
   "metadata": {},
   "outputs": [],
   "source": []
  }
 ],
 "metadata": {
  "kernelspec": {
   "display_name": "Python 3 (ipykernel)",
   "language": "python",
   "name": "python3"
  },
  "language_info": {
   "codemirror_mode": {
    "name": "ipython",
    "version": 3
   },
   "file_extension": ".py",
   "mimetype": "text/x-python",
   "name": "python",
   "nbconvert_exporter": "python",
   "pygments_lexer": "ipython3",
   "version": "3.12.2"
  }
 },
 "nbformat": 4,
 "nbformat_minor": 5
}
